{
 "cells": [
  {
   "cell_type": "markdown",
   "id": "a61ee981",
   "metadata": {},
   "source": [
    "## Осуществление АА-теста на пользователях ленты новостей"
   ]
  },
  {
   "cell_type": "markdown",
   "id": "f7f387d5",
   "metadata": {},
   "source": [
    "**Описание задачи:** \n",
    "У нас есть данные АА-теста с '2022-11-25' по '2022-12-01'. Нам нужно сделать симуляцию, как будто мы провели 10000 АА-тестов. На каждой итерации мы будем формировать подвыборки без повторения в 500 юзеров из 2 и 3 экспериментальной группы. Проведём сравнение этих подвыборок t-testом."
   ]
  },
  {
   "cell_type": "markdown",
   "id": "fea00b8a",
   "metadata": {},
   "source": [
    "### Получение данных"
   ]
  },
  {
   "cell_type": "markdown",
   "id": "201879b2",
   "metadata": {},
   "source": [
    "Импортируем необходимые библиотеки и сформируем параметры подключения к БД"
   ]
  },
  {
   "cell_type": "code",
   "execution_count": 1,
   "id": "fbd249dc",
   "metadata": {},
   "outputs": [],
   "source": [
    "import pandas as pd\n",
    "import seaborn as sns\n",
    "import matplotlib.pyplot as plt\n",
    "import pandahouse\n",
    "import scipy.stats as st"
   ]
  },
  {
   "cell_type": "code",
   "execution_count": 2,
   "id": "4504b4c7",
   "metadata": {},
   "outputs": [],
   "source": [
    "with open('db.txt') as f:\n",
    "    host, password, user, database =(i.rstrip() for i in f.readlines())"
   ]
  },
  {
   "cell_type": "code",
   "execution_count": 3,
   "id": "b2288518",
   "metadata": {},
   "outputs": [],
   "source": [
    "connection = {'host':host,\n",
    "              'password': password,\n",
    "              'user':user,\n",
    "              'database':database\n",
    "}"
   ]
  },
  {
   "cell_type": "markdown",
   "id": "3b8009cd",
   "metadata": {},
   "source": [
    "Загрузим нужные данные"
   ]
  },
  {
   "cell_type": "code",
   "execution_count": 5,
   "id": "21308a3d",
   "metadata": {},
   "outputs": [],
   "source": [
    "q = \"\"\"\n",
    "select exp_group, user_id, \n",
    "sum(action='like') as likes,\n",
    "sum(action='view') as views,\n",
    "likes/views as ctr\n",
    "from {db}.feed_actions\n",
    "where time::date between '2022-08-27' and '2022-09-02'\n",
    "and exp_group in (2, 3)\n",
    "group by exp_group, user_id\"\"\"\n",
    "df = pandahouse.read_clickhouse(q, connection=connection)"
   ]
  },
  {
   "cell_type": "code",
   "execution_count": 6,
   "id": "b206f39a",
   "metadata": {},
   "outputs": [
    {
     "data": {
      "text/html": [
       "<div>\n",
       "<style scoped>\n",
       "    .dataframe tbody tr th:only-of-type {\n",
       "        vertical-align: middle;\n",
       "    }\n",
       "\n",
       "    .dataframe tbody tr th {\n",
       "        vertical-align: top;\n",
       "    }\n",
       "\n",
       "    .dataframe thead th {\n",
       "        text-align: right;\n",
       "    }\n",
       "</style>\n",
       "<table border=\"1\" class=\"dataframe\">\n",
       "  <thead>\n",
       "    <tr style=\"text-align: right;\">\n",
       "      <th></th>\n",
       "      <th>exp_group</th>\n",
       "      <th>user_id</th>\n",
       "      <th>likes</th>\n",
       "      <th>views</th>\n",
       "      <th>ctr</th>\n",
       "    </tr>\n",
       "  </thead>\n",
       "  <tbody>\n",
       "    <tr>\n",
       "      <th>0</th>\n",
       "      <td>2</td>\n",
       "      <td>78186</td>\n",
       "      <td>20</td>\n",
       "      <td>83</td>\n",
       "      <td>0.240964</td>\n",
       "    </tr>\n",
       "    <tr>\n",
       "      <th>1</th>\n",
       "      <td>3</td>\n",
       "      <td>123580</td>\n",
       "      <td>8</td>\n",
       "      <td>29</td>\n",
       "      <td>0.275862</td>\n",
       "    </tr>\n",
       "    <tr>\n",
       "      <th>2</th>\n",
       "      <td>3</td>\n",
       "      <td>36785</td>\n",
       "      <td>6</td>\n",
       "      <td>33</td>\n",
       "      <td>0.181818</td>\n",
       "    </tr>\n",
       "    <tr>\n",
       "      <th>3</th>\n",
       "      <td>2</td>\n",
       "      <td>24239</td>\n",
       "      <td>58</td>\n",
       "      <td>163</td>\n",
       "      <td>0.355828</td>\n",
       "    </tr>\n",
       "    <tr>\n",
       "      <th>4</th>\n",
       "      <td>3</td>\n",
       "      <td>51455</td>\n",
       "      <td>12</td>\n",
       "      <td>62</td>\n",
       "      <td>0.193548</td>\n",
       "    </tr>\n",
       "  </tbody>\n",
       "</table>\n",
       "</div>"
      ],
      "text/plain": [
       "   exp_group  user_id  likes  views       ctr\n",
       "0          2    78186     20     83  0.240964\n",
       "1          3   123580      8     29  0.275862\n",
       "2          3    36785      6     33  0.181818\n",
       "3          2    24239     58    163  0.355828\n",
       "4          3    51455     12     62  0.193548"
      ]
     },
     "execution_count": 6,
     "metadata": {},
     "output_type": "execute_result"
    }
   ],
   "source": [
    "df.head()"
   ]
  },
  {
   "cell_type": "markdown",
   "id": "a22cfb10",
   "metadata": {},
   "source": [
    "Посмотрим на число пользователей, оказавшихся в каждой из групп"
   ]
  },
  {
   "cell_type": "code",
   "execution_count": 7,
   "id": "bf0e71fc",
   "metadata": {},
   "outputs": [
    {
     "data": {
      "text/plain": [
       "3    16598\n",
       "2    16535\n",
       "Name: exp_group, dtype: int64"
      ]
     },
     "execution_count": 7,
     "metadata": {},
     "output_type": "execute_result"
    }
   ],
   "source": [
    "df.exp_group.value_counts()"
   ]
  },
  {
   "cell_type": "markdown",
   "id": "0fbd3d59",
   "metadata": {},
   "source": [
    "Итак, колчество юзеров примерно равно"
   ]
  },
  {
   "cell_type": "markdown",
   "id": "17b93013",
   "metadata": {},
   "source": [
    "Построим гистограмму CTR"
   ]
  },
  {
   "cell_type": "code",
   "execution_count": 8,
   "id": "2e815634",
   "metadata": {},
   "outputs": [
    {
     "data": {
      "image/png": "[encoded data removed]",
      "text/plain": [
       "<Figure size 864x576 with 1 Axes>"
      ]
     },
     "metadata": {
      "needs_background": "light"
     },
     "output_type": "display_data"
    }
   ],
   "source": [
    "plt.figure(figsize=(12, 8))\n",
    "sns.histplot(data=df, x='ctr', hue='exp_group', palette=['r', 'b'], alpha=0.5)\n",
    "plt.title('CTR histogram');"
   ]
  },
  {
   "cell_type": "markdown",
   "id": "a682d7ac",
   "metadata": {},
   "source": [
    "Исходя из графика, можно сделать вывод, что распределение CTR во второй и третьей группах похоже. Однако чтобы убедиться в этом проведем симуляцию 10000 АА-тестов. Для этого сформируем подвыборки без повторения по 500 пользователей в каждой экспериментальной группе и сравним их tt-тестом на каждой итерации."
   ]
  },
  {
   "cell_type": "code",
   "execution_count": 9,
   "id": "9af0c843",
   "metadata": {},
   "outputs": [],
   "source": [
    "def get_aa_test(ctr1, ctr2, n_users=500,n_iter=10000):\n",
    "    p_values = []\n",
    "    for _ in range(n_iter):\n",
    "        group_1 = ctr1.sample(n_users)\n",
    "        group_2 = ctr2.sample(n_users)\n",
    "        p_values.append(st.ttest_ind(group_1, group_2, equal_var=False)[1])\n",
    "    return pd.Series(p_values)"
   ]
  },
  {
   "cell_type": "code",
   "execution_count": 10,
   "id": "f362dbe6",
   "metadata": {},
   "outputs": [],
   "source": [
    "p_value_aa_test = get_aa_test(df[df.exp_group ==2].ctr, df[df.exp_group ==3].ctr)"
   ]
  },
  {
   "cell_type": "markdown",
   "id": "2d725c12",
   "metadata": {},
   "source": [
    "Построим гистограмму полученных 10000 p-value"
   ]
  },
  {
   "cell_type": "code",
   "execution_count": 11,
   "id": "186d5b48",
   "metadata": {},
   "outputs": [
    {
     "data": {
      "image/png": "[encoded data removed]",
      "text/plain": [
       "<Figure size 432x288 with 1 Axes>"
      ]
     },
     "metadata": {
      "needs_background": "light"
     },
     "output_type": "display_data"
    }
   ],
   "source": [
    "sns.histplot(p_value_aa_test)\n",
    "plt.title('p-value');"
   ]
  },
  {
   "cell_type": "markdown",
   "id": "2377b32b",
   "metadata": {},
   "source": [
    "Итак, получилось равномерное распределение p-value. Рассчитаем процент p-value, оказавшихся меньше или равных 0.05."
   ]
  },
  {
   "cell_type": "code",
   "execution_count": 12,
   "id": "6ab0366a",
   "metadata": {},
   "outputs": [
    {
     "name": "stdout",
     "output_type": "stream",
     "text": [
      "Процент ошибок первого рода равен 5.12%\n"
     ]
    }
   ],
   "source": [
    "false_positive_percent = round(sum([i<=0.05 for i in p_value_aa_test])/len(p_value_aa_test)*100, 2)\n",
    "print(f'Процент ошибок первого рода равен {false_positive_percent}%')"
   ]
  },
  {
   "cell_type": "markdown",
   "id": "94183e36",
   "metadata": {},
   "source": [
    "**Вывод:** Процент ложноположительных срабатываний ниже принятого значения 5%, что свидетельствует о корректной работе системы сплитования"
   ]
  }
 ],
 "metadata": {
  "kernelspec": {
   "display_name": "Python 3",
   "language": "python",
   "name": "python3"
  },
  "language_info": {
   "codemirror_mode": {
    "name": "ipython",
    "version": 3
   },
   "file_extension": ".py",
   "mimetype": "text/x-python",
   "name": "python",
   "nbconvert_exporter": "python",
   "pygments_lexer": "ipython3",
   "version": "3.8.8"
  }
 },
 "nbformat": 4,
 "nbformat_minor": 5
}
