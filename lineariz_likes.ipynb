{
 "cells": [
  {
   "cell_type": "markdown",
   "id": "8439d559",
   "metadata": {},
   "source": [
    "## Анализ A/B-теста с помощью линеаризованных лайков"
   ]
  },
  {
   "cell_type": "markdown",
   "id": "65bbe17c",
   "metadata": {},
   "source": [
    "### Описание данных"
   ]
  },
  {
   "cell_type": "markdown",
   "id": "38a126cc",
   "metadata": {},
   "source": [
    "С 3 сентября по 9 сентября 2022 года параллельно проходили два эксперимента рекомендации постов. Для этого пользователи были разбиты на 4 группы.  \n",
    "* 1 эксперимент:  \n",
    "\n",
    "    - 1 группа - контрольная, нет никаких изменений;\n",
    "    - 2 группа - пользователям показывается рекомендация \"похожих на лайкнутые посты\".\n",
    "* 2 эксперимент:\n",
    "    - 0 группа - контрольная, нет никаких изменений в системе рекомендаций;\n",
    "    - 3 группа - пользователям показывается рекомендация \"постовб которые лайкнули похожие на вас люди\"."
   ]
  },
  {
   "cell_type": "markdown",
   "id": "3a2f2659",
   "metadata": {},
   "source": [
    "### Расчет метрики"
   ]
  },
  {
   "cell_type": "markdown",
   "id": "fdf77f33",
   "metadata": {},
   "source": [
    "Вычисляется общий CTR в контрольной группе: $$ CTRcontrol = \\frac {sum(likes)}{sum(views)} $$"
   ]
  },
  {
   "cell_type": "markdown",
   "id": "764eed67",
   "metadata": {},
   "source": [
    "В каждой из групп рассчитывается поюзерная метрика: $$ \\text{linearized likes} = likes - CTRcontrol*views $$"
   ]
  },
  {
   "cell_type": "markdown",
   "id": "b4a5b9f8",
   "metadata": {},
   "source": [
    "Проведем анализ результатов A/B-теста с помощью линеаризованных лайков для 1 и 2 экспериментов и сравним полученные данных с метрикой поюзерного СTR."
   ]
  },
  {
   "cell_type": "markdown",
   "id": "b4989d60",
   "metadata": {},
   "source": [
    "### Загрузка данных для анализа 2 эксперимента"
   ]
  },
  {
   "cell_type": "code",
   "execution_count": 1,
   "id": "c2acdf7f",
   "metadata": {},
   "outputs": [],
   "source": [
    "import pandahouse\n",
    "import pandas as pd\n",
    "import matplotlib.pyplot as plt\n",
    "import seaborn as sns\n",
    "import scipy.stats as st"
   ]
  },
  {
   "cell_type": "code",
   "execution_count": 2,
   "id": "077c61f2",
   "metadata": {},
   "outputs": [],
   "source": [
    "with open('db.txt') as file:\n",
    "    host, password, user, database =(i.rstrip() for i in file.readlines())"
   ]
  },
  {
   "cell_type": "code",
   "execution_count": 3,
   "id": "ecee457c",
   "metadata": {},
   "outputs": [],
   "source": [
    "connection = {'host':host,\n",
    "              'password': password,\n",
    "              'user':user,\n",
    "              'database':database\n",
    "             }"
   ]
  },
  {
   "cell_type": "markdown",
   "id": "7a117552",
   "metadata": {},
   "source": [
    "Отбираем данные с 3 по 9 сентября 2022 года для 2 эксперимента (0 и 3 группы)."
   ]
  },
  {
   "cell_type": "code",
   "execution_count": 4,
   "id": "0e4fef45",
   "metadata": {},
   "outputs": [],
   "source": [
    "q = \"\"\"\n",
    "select exp_group, user_id,\n",
    "sum(action='like') as likes, \n",
    "sum(action='view') as views,\n",
    "likes/views as ctr\n",
    "from {db}.feed_actions\n",
    "where exp_group in(0, 3)\n",
    "and time::date between '2022-09-03' and '2022-09-09'\n",
    "group by exp_group, user_id\n",
    "\"\"\"\n",
    "df = pandahouse.read_clickhouse(q, connection=connection)"
   ]
  },
  {
   "cell_type": "code",
   "execution_count": 5,
   "id": "0b9da635",
   "metadata": {},
   "outputs": [
    {
     "data": {
      "text/html": [
       "<div>\n",
       "<style scoped>\n",
       "    .dataframe tbody tr th:only-of-type {\n",
       "        vertical-align: middle;\n",
       "    }\n",
       "\n",
       "    .dataframe tbody tr th {\n",
       "        vertical-align: top;\n",
       "    }\n",
       "\n",
       "    .dataframe thead th {\n",
       "        text-align: right;\n",
       "    }\n",
       "</style>\n",
       "<table border=\"1\" class=\"dataframe\">\n",
       "  <thead>\n",
       "    <tr style=\"text-align: right;\">\n",
       "      <th></th>\n",
       "      <th>exp_group</th>\n",
       "      <th>user_id</th>\n",
       "      <th>likes</th>\n",
       "      <th>views</th>\n",
       "      <th>ctr</th>\n",
       "    </tr>\n",
       "  </thead>\n",
       "  <tbody>\n",
       "    <tr>\n",
       "      <th>0</th>\n",
       "      <td>3</td>\n",
       "      <td>115383</td>\n",
       "      <td>33</td>\n",
       "      <td>120</td>\n",
       "      <td>0.275000</td>\n",
       "    </tr>\n",
       "    <tr>\n",
       "      <th>1</th>\n",
       "      <td>3</td>\n",
       "      <td>123580</td>\n",
       "      <td>10</td>\n",
       "      <td>59</td>\n",
       "      <td>0.169492</td>\n",
       "    </tr>\n",
       "    <tr>\n",
       "      <th>2</th>\n",
       "      <td>3</td>\n",
       "      <td>2709</td>\n",
       "      <td>4</td>\n",
       "      <td>25</td>\n",
       "      <td>0.160000</td>\n",
       "    </tr>\n",
       "    <tr>\n",
       "      <th>3</th>\n",
       "      <td>0</td>\n",
       "      <td>61827</td>\n",
       "      <td>4</td>\n",
       "      <td>8</td>\n",
       "      <td>0.500000</td>\n",
       "    </tr>\n",
       "    <tr>\n",
       "      <th>4</th>\n",
       "      <td>0</td>\n",
       "      <td>80745</td>\n",
       "      <td>22</td>\n",
       "      <td>108</td>\n",
       "      <td>0.203704</td>\n",
       "    </tr>\n",
       "  </tbody>\n",
       "</table>\n",
       "</div>"
      ],
      "text/plain": [
       "   exp_group  user_id  likes  views       ctr\n",
       "0          3   115383     33    120  0.275000\n",
       "1          3   123580     10     59  0.169492\n",
       "2          3     2709      4     25  0.160000\n",
       "3          0    61827      4      8  0.500000\n",
       "4          0    80745     22    108  0.203704"
      ]
     },
     "execution_count": 5,
     "metadata": {},
     "output_type": "execute_result"
    }
   ],
   "source": [
    "df.head()"
   ]
  },
  {
   "cell_type": "code",
   "execution_count": 6,
   "id": "4c38a43d",
   "metadata": {},
   "outputs": [
    {
     "data": {
      "text/plain": [
       "3    17085\n",
       "0    17054\n",
       "Name: exp_group, dtype: int64"
      ]
     },
     "execution_count": 6,
     "metadata": {},
     "output_type": "execute_result"
    }
   ],
   "source": [
    "df.exp_group.value_counts()"
   ]
  },
  {
   "cell_type": "markdown",
   "id": "1934d322",
   "metadata": {},
   "source": [
    "Количество пользователей в тестовой и контрольной группах примерно равно.  \n",
    "Посмотри на распеделение поюерного СTR."
   ]
  },
  {
   "cell_type": "code",
   "execution_count": 7,
   "id": "7f5db5e3",
   "metadata": {},
   "outputs": [
    {
     "data": {
      "image/png": "[encoded data removed]",
      "text/plain": [
       "<Figure size 864x576 with 1 Axes>"
      ]
     },
     "metadata": {
      "needs_background": "light"
     },
     "output_type": "display_data"
    }
   ],
   "source": [
    "plt.figure(figsize=(12,8))\n",
    "sns.histplot(data=df, x= 'ctr', hue='exp_group', palette=['b', 'r'], alpha =0.5);"
   ]
  },
  {
   "cell_type": "markdown",
   "id": "85822f48",
   "metadata": {},
   "source": [
    "Проведем сравнение групп Т критерием Стьюдента, уровень значимости примем равным 0.05."
   ]
  },
  {
   "cell_type": "code",
   "execution_count": 8,
   "id": "c999e598",
   "metadata": {},
   "outputs": [
    {
     "data": {
      "text/plain": [
       "Ttest_indResult(statistic=0.5051875755480856, pvalue=0.613430357624797)"
      ]
     },
     "execution_count": 8,
     "metadata": {},
     "output_type": "execute_result"
    }
   ],
   "source": [
    "st.ttest_ind(df[df.exp_group == 0].ctr,\n",
    "            df[df.exp_group == 3].ctr, equal_var=False)"
   ]
  },
  {
   "cell_type": "markdown",
   "id": "edc77bcd",
   "metadata": {},
   "source": [
    "Итак, мы не можем отклонить нулевую гипотезу о равенстве средних в группах.  \n",
    "Теперь попробуем сравнить группы с помощью метрики линеализованных лайков."
   ]
  },
  {
   "cell_type": "markdown",
   "id": "e33d9b1d",
   "metadata": {},
   "source": [
    "Вычислим общий CTR в контрольной группу по формуле:  $$ CTRcontrol = \\frac {sum(likes)}{sum(views)} $$"
   ]
  },
  {
   "cell_type": "code",
   "execution_count": 9,
   "id": "af0b4f11",
   "metadata": {},
   "outputs": [],
   "source": [
    "CTR_control = sum(df[df.exp_group == 0].likes)/sum(df[df.exp_group == 0].views)"
   ]
  },
  {
   "cell_type": "markdown",
   "id": "fc086912",
   "metadata": {},
   "source": [
    "Посчитаем поюзерную метрику в обеих группах $$ \\text{linearized likes} = likes - CTRcontrol*views $$"
   ]
  },
  {
   "cell_type": "code",
   "execution_count": 10,
   "id": "29d2e74b",
   "metadata": {},
   "outputs": [],
   "source": [
    "df['lin_likes'] = df.likes - CTR_control*df.views"
   ]
  },
  {
   "cell_type": "markdown",
   "id": "dc56ba5b",
   "metadata": {},
   "source": [
    "Посмотрим на распределение получившейся метрики"
   ]
  },
  {
   "cell_type": "code",
   "execution_count": 11,
   "id": "3d0e66df",
   "metadata": {},
   "outputs": [
    {
     "data": {
      "image/png": "[encoded data removed]",
      "text/plain": [
       "<Figure size 864x576 with 1 Axes>"
      ]
     },
     "metadata": {
      "needs_background": "light"
     },
     "output_type": "display_data"
    }
   ],
   "source": [
    "plt.figure(figsize=(12, 8))\n",
    "sns.histplot(data=df, x='lin_likes', hue='exp_group', palette=['r', 'b']);"
   ]
  },
  {
   "cell_type": "markdown",
   "id": "03807281",
   "metadata": {},
   "source": [
    "Итак, распределение линеализованных лайков в обеих группах больше похоже на нормальное, чем распределение поюзерных CTR."
   ]
  },
  {
   "cell_type": "code",
   "execution_count": 13,
   "id": "f0075d68",
   "metadata": {},
   "outputs": [
    {
     "data": {
      "text/plain": [
       "Ttest_indResult(statistic=1.4652971996296535, pvalue=0.1428490608083239)"
      ]
     },
     "execution_count": 13,
     "metadata": {},
     "output_type": "execute_result"
    }
   ],
   "source": [
    "st.ttest_ind(df[df.exp_group==0].lin_likes, df[df.exp_group==3].lin_likes, equal_var=False)"
   ]
  },
  {
   "cell_type": "markdown",
   "id": "f18f41ec",
   "metadata": {},
   "source": [
    "P-value при использовании т-теста на линеализованных лайках показал меньшее значение, однако остался выше принятого уровня значимости 0.05. Что говорит о невозможности опровергнуть гипотезу о равенстве групп."
   ]
  },
  {
   "cell_type": "markdown",
   "id": "b55c312f",
   "metadata": {},
   "source": [
    "### Анализ данных 1 эксперимента"
   ]
  },
  {
   "cell_type": "markdown",
   "id": "a9498754",
   "metadata": {},
   "source": [
    "Подгрузим данные о первом эксперименте (1 и 2 группы)."
   ]
  },
  {
   "cell_type": "code",
   "execution_count": 14,
   "id": "ff9f08fa",
   "metadata": {},
   "outputs": [],
   "source": [
    "q = \"\"\"\n",
    "select exp_group, user_id, sum(action='like') as likes,\n",
    "sum(action='view') as views,\n",
    "likes/views as ctr\n",
    "from {db}.feed_actions\n",
    "where exp_group in (1, 2)\n",
    "and time::date between '2022-09-03' and '2022-09-09'\n",
    "group by exp_group, user_id\n",
    "\"\"\"\n",
    "df2 = pandahouse.read_clickhouse(q, connection=connection)"
   ]
  },
  {
   "cell_type": "code",
   "execution_count": 15,
   "id": "c42136a1",
   "metadata": {},
   "outputs": [
    {
     "data": {
      "text/html": [
       "<div>\n",
       "<style scoped>\n",
       "    .dataframe tbody tr th:only-of-type {\n",
       "        vertical-align: middle;\n",
       "    }\n",
       "\n",
       "    .dataframe tbody tr th {\n",
       "        vertical-align: top;\n",
       "    }\n",
       "\n",
       "    .dataframe thead th {\n",
       "        text-align: right;\n",
       "    }\n",
       "</style>\n",
       "<table border=\"1\" class=\"dataframe\">\n",
       "  <thead>\n",
       "    <tr style=\"text-align: right;\">\n",
       "      <th></th>\n",
       "      <th>exp_group</th>\n",
       "      <th>user_id</th>\n",
       "      <th>likes</th>\n",
       "      <th>views</th>\n",
       "      <th>ctr</th>\n",
       "    </tr>\n",
       "  </thead>\n",
       "  <tbody>\n",
       "    <tr>\n",
       "      <th>0</th>\n",
       "      <td>2</td>\n",
       "      <td>78186</td>\n",
       "      <td>6</td>\n",
       "      <td>20</td>\n",
       "      <td>0.300000</td>\n",
       "    </tr>\n",
       "    <tr>\n",
       "      <th>1</th>\n",
       "      <td>1</td>\n",
       "      <td>18392</td>\n",
       "      <td>23</td>\n",
       "      <td>104</td>\n",
       "      <td>0.221154</td>\n",
       "    </tr>\n",
       "    <tr>\n",
       "      <th>2</th>\n",
       "      <td>1</td>\n",
       "      <td>163747</td>\n",
       "      <td>38</td>\n",
       "      <td>99</td>\n",
       "      <td>0.383838</td>\n",
       "    </tr>\n",
       "    <tr>\n",
       "      <th>3</th>\n",
       "      <td>1</td>\n",
       "      <td>85848</td>\n",
       "      <td>6</td>\n",
       "      <td>22</td>\n",
       "      <td>0.272727</td>\n",
       "    </tr>\n",
       "    <tr>\n",
       "      <th>4</th>\n",
       "      <td>2</td>\n",
       "      <td>149215</td>\n",
       "      <td>4</td>\n",
       "      <td>32</td>\n",
       "      <td>0.125000</td>\n",
       "    </tr>\n",
       "  </tbody>\n",
       "</table>\n",
       "</div>"
      ],
      "text/plain": [
       "   exp_group  user_id  likes  views       ctr\n",
       "0          2    78186      6     20  0.300000\n",
       "1          1    18392     23    104  0.221154\n",
       "2          1   163747     38     99  0.383838\n",
       "3          1    85848      6     22  0.272727\n",
       "4          2   149215      4     32  0.125000"
      ]
     },
     "execution_count": 15,
     "metadata": {},
     "output_type": "execute_result"
    }
   ],
   "source": [
    "df2.head()"
   ]
  },
  {
   "cell_type": "code",
   "execution_count": 16,
   "id": "1d52b79f",
   "metadata": {},
   "outputs": [
    {
     "data": {
      "text/plain": [
       "1    17070\n",
       "2    16869\n",
       "Name: exp_group, dtype: int64"
      ]
     },
     "execution_count": 16,
     "metadata": {},
     "output_type": "execute_result"
    }
   ],
   "source": [
    "df2.exp_group.value_counts()"
   ]
  },
  {
   "cell_type": "markdown",
   "id": "f83e2193",
   "metadata": {},
   "source": [
    "Количество наблюдений в группах примерно равно."
   ]
  },
  {
   "cell_type": "markdown",
   "id": "973d04ac",
   "metadata": {},
   "source": [
    "Визуализируем данные"
   ]
  },
  {
   "cell_type": "code",
   "execution_count": 17,
   "id": "038c8851",
   "metadata": {},
   "outputs": [
    {
     "data": {
      "image/png": "[encoded data removed]",
      "text/plain": [
       "<Figure size 864x576 with 1 Axes>"
      ]
     },
     "metadata": {
      "needs_background": "light"
     },
     "output_type": "display_data"
    }
   ],
   "source": [
    "plt.figure(figsize=(12,8))\n",
    "sns.histplot(data = df2, x= 'ctr', hue='exp_group', palette=['r', 'b']);"
   ]
  },
  {
   "cell_type": "markdown",
   "id": "74e87626",
   "metadata": {},
   "source": [
    "Визуально никаких отличий между группами не заметно. Проведем t-тест на поюзерном CTR."
   ]
  },
  {
   "cell_type": "code",
   "execution_count": 18,
   "id": "050ec3c4",
   "metadata": {},
   "outputs": [
    {
     "data": {
      "text/plain": [
       "Ttest_indResult(statistic=-0.41347637473349386, pvalue=0.6792602410005473)"
      ]
     },
     "execution_count": 18,
     "metadata": {},
     "output_type": "execute_result"
    }
   ],
   "source": [
    "st.ttest_ind(df2[df2.exp_group ==1].ctr, \n",
    "            df2[df2.exp_group == 2].ctr,\n",
    "            equal_var=False)"
   ]
  },
  {
   "cell_type": "markdown",
   "id": "adb5aac1",
   "metadata": {},
   "source": [
    "Значение p-value также не дает нам опровергнуть нулевую гипотезу.  \n",
    "Сравним отличия в группах с помощью t-теста на линеализованных данных."
   ]
  },
  {
   "cell_type": "code",
   "execution_count": 19,
   "id": "7432f9a4",
   "metadata": {},
   "outputs": [],
   "source": [
    "CTRcontrol2 = sum(df2[df2.exp_group ==1].likes)/sum(df2[df2.exp_group ==1].views)"
   ]
  },
  {
   "cell_type": "code",
   "execution_count": 20,
   "id": "c8bc494c",
   "metadata": {},
   "outputs": [],
   "source": [
    "df2['lin_likes']  = df['likes'] - CTRcontrol2*df['views']"
   ]
  },
  {
   "cell_type": "markdown",
   "id": "80c73901",
   "metadata": {},
   "source": [
    "Визуализируем получившуюся метрику."
   ]
  },
  {
   "cell_type": "code",
   "execution_count": 21,
   "id": "492aeb69",
   "metadata": {},
   "outputs": [
    {
     "data": {
      "image/png": "[encoded data removed]",
      "text/plain": [
       "<Figure size 864x576 with 1 Axes>"
      ]
     },
     "metadata": {
      "needs_background": "light"
     },
     "output_type": "display_data"
    }
   ],
   "source": [
    "plt.figure(figsize=(12, 8))\n",
    "sns.histplot(data= df2, x= 'lin_likes', hue='exp_group', palette= ['r', 'b'], alpha =0.4);"
   ]
  },
  {
   "cell_type": "code",
   "execution_count": 22,
   "id": "8b31575b",
   "metadata": {},
   "outputs": [
    {
     "data": {
      "text/plain": [
       "Ttest_indResult(statistic=0.6884481250463613, pvalue=0.4911753358189789)"
      ]
     },
     "execution_count": 22,
     "metadata": {},
     "output_type": "execute_result"
    }
   ],
   "source": [
    "st.ttest_ind(df2[df2.exp_group == 1].lin_likes,\n",
    "            df2[df2.exp_group == 2].lin_likes,\n",
    "            equal_var=False)"
   ]
  },
  {
   "cell_type": "markdown",
   "id": "07bfca66",
   "metadata": {},
   "source": [
    "### Вывод"
   ]
  },
  {
   "cell_type": "markdown",
   "id": "9bdefb5a",
   "metadata": {},
   "source": [
    "Никаких статистически значимых различий при анализе результатов ни первого, ни второго экспериментов не обнаружено. Даже более чуствительная метрика линеализованных лайков не \"прокрасилась\". Значит, внедрение систем рекомендаций не привело к увеличению пользовательского интереса к постам. Следовательно, ни первый, ни второй алгоритмы рекомендаций не нужно запускать в продакшн."
   ]
  }
 ],
 "metadata": {
  "kernelspec": {
   "display_name": "Python 3",
   "language": "python",
   "name": "python3"
  },
  "language_info": {
   "codemirror_mode": {
    "name": "ipython",
    "version": 3
   },
   "file_extension": ".py",
   "mimetype": "text/x-python",
   "name": "python",
   "nbconvert_exporter": "python",
   "pygments_lexer": "ipython3",
   "version": "3.8.8"
  }
 },
 "nbformat": 4,
 "nbformat_minor": 5
}
