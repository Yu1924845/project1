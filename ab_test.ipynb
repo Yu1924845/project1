{
 "cells": [
  {
   "cell_type": "markdown",
   "id": "f5c7774c",
   "metadata": {},
   "source": [
    "## Анализ данных A/B тестирования"
   ]
  },
  {
   "cell_type": "markdown",
   "id": "5e7aa7c4",
   "metadata": {},
   "source": [
    "### Описание"
   ]
  },
  {
   "cell_type": "markdown",
   "id": "f25e6e60",
   "metadata": {},
   "source": [
    "Эксперимент проходил с 2022-09-03 по 2022-09-03 включительно. В эсперименте были задействованы 1 и 2 группы. \n",
    "В группе 2 был реализован новый алгоритм рекомендации постов, группа 1 использовалась как контрольная.  \n",
    "**Основная гипотеза** заключается в том, что новый алгоритм во второй группе приведет к увеличению CTR."
   ]
  },
  {
   "cell_type": "markdown",
   "id": "dd46dd5a",
   "metadata": {},
   "source": [
    "### Загрузка данных"
   ]
  },
  {
   "cell_type": "code",
   "execution_count": 13,
   "id": "211261a9",
   "metadata": {},
   "outputs": [],
   "source": [
    "import pandas as pd\n",
    "import seaborn as sns\n",
    "import matplotlib.pyplot as plt\n",
    "import pandahouse\n",
    "import scipy.stats as st\n",
    "import numpy as np"
   ]
  },
  {
   "cell_type": "code",
   "execution_count": 31,
   "id": "9f6a0350",
   "metadata": {},
   "outputs": [],
   "source": [
    "with open('db.txt') as f:\n",
    "    host, password, user, database =(i.rstrip() for i in f.readlines())"
   ]
  },
  {
   "cell_type": "code",
   "execution_count": 33,
   "id": "eace3f17",
   "metadata": {},
   "outputs": [],
   "source": [
    "connection = {'host':host,\n",
    "              'password': password,\n",
    "              'user': user,\n",
    "              'database':database\n",
    "}"
   ]
  },
  {
   "cell_type": "markdown",
   "id": "8b7c5a78",
   "metadata": {},
   "source": [
    "Отбираем с помощью SQL-запроса данные с 2022-09-03 по 2022-09-03 для 1 и 2 экспериментальных групп."
   ]
  },
  {
   "cell_type": "code",
   "execution_count": 34,
   "id": "4914d608",
   "metadata": {},
   "outputs": [],
   "source": [
    "q = \"\"\"\n",
    "select exp_group, user_id, \n",
    "sum(action='like') as likes,\n",
    "sum(action='view') as views,\n",
    "likes/views as ctr\n",
    "from {db}.feed_actions\n",
    "where time::date between '2022-09-03' and '2022-09-09'\n",
    "and exp_group in (1,2)\n",
    "group by exp_group, user_id\"\"\"\n",
    "df = pandahouse.read_clickhouse(q, connection=connection)"
   ]
  },
  {
   "cell_type": "markdown",
   "id": "bab9e9f1",
   "metadata": {},
   "source": [
    "Проверяем количество пользователей в обеих группах"
   ]
  },
  {
   "cell_type": "code",
   "execution_count": 16,
   "id": "44e324b5",
   "metadata": {},
   "outputs": [
    {
     "data": {
      "text/plain": [
       "1    17070\n",
       "2    16869\n",
       "Name: exp_group, dtype: int64"
      ]
     },
     "execution_count": 16,
     "metadata": {},
     "output_type": "execute_result"
    }
   ],
   "source": [
    "df.exp_group.value_counts()"
   ]
  },
  {
   "cell_type": "markdown",
   "id": "c49022a4",
   "metadata": {},
   "source": [
    "Итак, данные корректные, в группах примерно равное число пользователей."
   ]
  },
  {
   "cell_type": "markdown",
   "id": "8d05b39c",
   "metadata": {},
   "source": [
    "Посмотрим на распределение CTR."
   ]
  },
  {
   "cell_type": "code",
   "execution_count": 17,
   "id": "946c666e",
   "metadata": {},
   "outputs": [
    {
     "data": {
      "image/png": "[encoded data removed]",
      "text/plain": [
       "<Figure size 864x576 with 1 Axes>"
      ]
     },
     "metadata": {
      "needs_background": "light"
     },
     "output_type": "display_data"
    }
   ],
   "source": [
    "plt.figure(figsize=(12,8))\n",
    "sns.histplot(data=df, x='ctr', hue='exp_group', palette=['r', 'b'], alpha=0.5);"
   ]
  },
  {
   "cell_type": "markdown",
   "id": "5d59a757",
   "metadata": {},
   "source": [
    "Глядя на этот график, можно сказать, что распределение как в первой, так и во второй группе унимодально, в целом похоже на нормальное, однако имеет большое количество данных около нуля, а также выбросы справа.  \n",
    "При этом существенных отличий между 1 и 2 группами нет. Подтвердим или опровергнем это предложение с помощью тестов."
   ]
  },
  {
   "cell_type": "markdown",
   "id": "3f85bba0",
   "metadata": {},
   "source": [
    "### T-критерий Стьюдента и критерий Манна-Уитни"
   ]
  },
  {
   "cell_type": "markdown",
   "id": "fefa11d4",
   "metadata": {},
   "source": [
    "Проведем t-тест. Нулевая гипотеза заключается в равенстве выборочных средних 1 и 2 экспериментральных групп, p-value равен 0.05."
   ]
  },
  {
   "cell_type": "code",
   "execution_count": 18,
   "id": "c1d1979b",
   "metadata": {},
   "outputs": [
    {
     "data": {
      "text/plain": [
       "Ttest_indResult(statistic=-0.41347637473349386, pvalue=0.6792602410005473)"
      ]
     },
     "execution_count": 18,
     "metadata": {},
     "output_type": "execute_result"
    }
   ],
   "source": [
    "st.ttest_ind(df[df.exp_group==1].ctr,\n",
    "               df[df.exp_group==2].ctr, equal_var=False)"
   ]
  },
  {
   "cell_type": "markdown",
   "id": "0de326cd",
   "metadata": {},
   "source": [
    "Итак, p-value значительно больше уровня значимости, следовательно, мы не можем опровергнуть нулевую гипотезу.  \n",
    "Возможно на чуствительность теста повлияли выбросы в наших данных. Расчитаем критерий Манна-Уитни."
   ]
  },
  {
   "cell_type": "code",
   "execution_count": 19,
   "id": "341a8583",
   "metadata": {},
   "outputs": [
    {
     "data": {
      "text/plain": [
       "MannwhitneyuResult(statistic=143551924.0, pvalue=0.6376814173341009)"
      ]
     },
     "execution_count": 19,
     "metadata": {},
     "output_type": "execute_result"
    }
   ],
   "source": [
    "st.mannwhitneyu(df[df.exp_group==1].ctr,\n",
    "               df[df.exp_group==2].ctr,\n",
    "               alternative= 'two-sided')"
   ]
  },
  {
   "cell_type": "markdown",
   "id": "aa32d1ea",
   "metadata": {},
   "source": [
    "Критерий Манна-Уитни также не показал никаких различий между группами"
   ]
  },
  {
   "cell_type": "markdown",
   "id": "588832be",
   "metadata": {},
   "source": [
    "### Пуассоновский бутстреп"
   ]
  },
  {
   "cell_type": "markdown",
   "id": "c47d6f96",
   "metadata": {},
   "source": [
    "Наша задача сравнить общегрупповой CTR в 1 и 2 группах. Трудность в том, что это просто два числа. Получим распределение общегруппового CTR бутстрепом, предположив, что наши выборки из групп являются репрезентативной моделью генеральной совокупности."
   ]
  },
  {
   "cell_type": "code",
   "execution_count": 20,
   "id": "87866645",
   "metadata": {},
   "outputs": [],
   "source": [
    "def bootstrap(likes1, views1, likes2, views2, n_bootstrap = 2000):\n",
    "    poisson_bootstrap1 = st.poisson(1).rvs((n_bootstrap, len(likes1))).astype(np.int64)\n",
    "    poisson_bootstrap2 = st.poisson(1).rvs((n_bootstrap, len(likes2))).astype(np.int64)\n",
    "    globalCTR1 = (likes1*poisson_bootstrap1).sum(axis=1)/(views1*poisson_bootstrap1).sum(axis=1)\n",
    "    globalCTR2 = (likes2*poisson_bootstrap2).sum(axis=1)/(views2*poisson_bootstrap2).sum(axis=1)\n",
    "    return globalCTR1, globalCTR2"
   ]
  },
  {
   "cell_type": "code",
   "execution_count": 21,
   "id": "1a0335d7",
   "metadata": {},
   "outputs": [],
   "source": [
    "likes1 = df[df.exp_group==1].likes.to_numpy()\n",
    "views1 = df[df.exp_group==1].views.to_numpy()\n",
    "likes2 = df[df.exp_group==2].likes.to_numpy()\n",
    "views2 = df[df.exp_group==2].views.to_numpy()"
   ]
  },
  {
   "cell_type": "code",
   "execution_count": 22,
   "id": "c1200f90",
   "metadata": {},
   "outputs": [],
   "source": [
    "ctr1, ctr2 = bootstrap(likes1, views1, likes2, views2)"
   ]
  },
  {
   "cell_type": "markdown",
   "id": "11411e30",
   "metadata": {},
   "source": [
    "Построим график распределения глобальных CTR"
   ]
  },
  {
   "cell_type": "code",
   "execution_count": 23,
   "id": "f5a0795a",
   "metadata": {},
   "outputs": [
    {
     "data": {
      "image/png": "[encoded data removed]",
      "text/plain": [
       "<Figure size 432x288 with 1 Axes>"
      ]
     },
     "metadata": {
      "needs_background": "light"
     },
     "output_type": "display_data"
    }
   ],
   "source": [
    "sns.histplot(ctr1, color='blue')\n",
    "sns.histplot(ctr2, color='red');"
   ]
  },
  {
   "cell_type": "markdown",
   "id": "9b06651c",
   "metadata": {},
   "source": [
    "Посмотрим на разницу между глобальными CTR "
   ]
  },
  {
   "cell_type": "code",
   "execution_count": 24,
   "id": "f1941569",
   "metadata": {},
   "outputs": [
    {
     "data": {
      "image/png": "[encoded data removed]",
      "text/plain": [
       "<Figure size 432x288 with 1 Axes>"
      ]
     },
     "metadata": {
      "needs_background": "light"
     },
     "output_type": "display_data"
    }
   ],
   "source": [
    "sns.histplot(ctr2-ctr1)\n",
    "plt.title('difference between global CTR');"
   ]
  },
  {
   "cell_type": "markdown",
   "id": "6e31e3b3",
   "metadata": {},
   "source": [
    "**Вывод**  \n",
    "Значения разницы глобальных CTR 1 и 2 групп сконцентрированы около нуля, что говорит об отсутствии разницы между группами."
   ]
  },
  {
   "cell_type": "markdown",
   "id": "3446b030",
   "metadata": {},
   "source": [
    "### Бакетное преобразование"
   ]
  },
  {
   "cell_type": "markdown",
   "id": "e30fd664",
   "metadata": {},
   "source": [
    "Попробуем еще один подход для сравнения групп. Разобьем пользователей на 50 бакетов, при этом каждый пользователь попадет только в одну корзину. Разделим пользователей на примерно равные бакеты с помощью хэширования."
   ]
  },
  {
   "cell_type": "code",
   "execution_count": 28,
   "id": "20087a81",
   "metadata": {},
   "outputs": [],
   "source": [
    "q = \"\"\"select exp_group, bucket,\n",
    "sum(likes)/sum(views) as bucket_ctr\n",
    "from(select exp_group, user_id,\n",
    "xxHash64(user_id)%50 as bucket, \n",
    "sum(action='like') as likes, sum(action='view') as views\n",
    "from {db}.feed_actions\n",
    "where time::date between '2022-09-03' and '2022-09-09'\n",
    "and exp_group in (1,2)\n",
    "group by exp_group, user_id, bucket)\n",
    "group by exp_group, bucket\n",
    "\"\"\"\n",
    "df2 = pandahouse.read_clickhouse(q, connection= connection)"
   ]
  },
  {
   "cell_type": "code",
   "execution_count": 29,
   "id": "3f3b4b38",
   "metadata": {},
   "outputs": [
    {
     "data": {
      "text/html": [
       "<div>\n",
       "<style scoped>\n",
       "    .dataframe tbody tr th:only-of-type {\n",
       "        vertical-align: middle;\n",
       "    }\n",
       "\n",
       "    .dataframe tbody tr th {\n",
       "        vertical-align: top;\n",
       "    }\n",
       "\n",
       "    .dataframe thead th {\n",
       "        text-align: right;\n",
       "    }\n",
       "</style>\n",
       "<table border=\"1\" class=\"dataframe\">\n",
       "  <thead>\n",
       "    <tr style=\"text-align: right;\">\n",
       "      <th></th>\n",
       "      <th>exp_group</th>\n",
       "      <th>bucket</th>\n",
       "      <th>bucket_ctr</th>\n",
       "    </tr>\n",
       "  </thead>\n",
       "  <tbody>\n",
       "    <tr>\n",
       "      <th>0</th>\n",
       "      <td>1</td>\n",
       "      <td>0</td>\n",
       "      <td>0.201306</td>\n",
       "    </tr>\n",
       "    <tr>\n",
       "      <th>1</th>\n",
       "      <td>2</td>\n",
       "      <td>0</td>\n",
       "      <td>0.205443</td>\n",
       "    </tr>\n",
       "    <tr>\n",
       "      <th>2</th>\n",
       "      <td>1</td>\n",
       "      <td>1</td>\n",
       "      <td>0.208763</td>\n",
       "    </tr>\n",
       "    <tr>\n",
       "      <th>3</th>\n",
       "      <td>2</td>\n",
       "      <td>1</td>\n",
       "      <td>0.213816</td>\n",
       "    </tr>\n",
       "    <tr>\n",
       "      <th>4</th>\n",
       "      <td>1</td>\n",
       "      <td>2</td>\n",
       "      <td>0.214877</td>\n",
       "    </tr>\n",
       "  </tbody>\n",
       "</table>\n",
       "</div>"
      ],
      "text/plain": [
       "   exp_group  bucket  bucket_ctr\n",
       "0          1       0    0.201306\n",
       "1          2       0    0.205443\n",
       "2          1       1    0.208763\n",
       "3          2       1    0.213816\n",
       "4          1       2    0.214877"
      ]
     },
     "execution_count": 29,
     "metadata": {},
     "output_type": "execute_result"
    }
   ],
   "source": [
    "df2.head()"
   ]
  },
  {
   "cell_type": "markdown",
   "id": "2157c7ac",
   "metadata": {},
   "source": [
    "Итак, для каждого из бакетов мы посчитали среднее значение CTR и таким образом получили данные о 50 \"метапользователях\" для каждой из групп."
   ]
  },
  {
   "cell_type": "code",
   "execution_count": 9,
   "id": "7558df5d",
   "metadata": {},
   "outputs": [
    {
     "data": {
      "image/png": "[encoded data removed]",
      "text/plain": [
       "<Figure size 432x288 with 1 Axes>"
      ]
     },
     "metadata": {
      "needs_background": "light"
     },
     "output_type": "display_data"
    }
   ],
   "source": [
    "sns.histplot(df2[df2.exp_group==1].bucket_ctr)\n",
    "sns.histplot(df2[df2.exp_group==2].bucket_ctr, color = 'r');"
   ]
  },
  {
   "cell_type": "markdown",
   "id": "504811a0",
   "metadata": {},
   "source": [
    "Распределение бакетного CTR в первой и второй группах получилось похоже на нормальное. "
   ]
  },
  {
   "cell_type": "markdown",
   "id": "22c10231",
   "metadata": {},
   "source": [
    "Применим поверх бакетного преобразования t-тест и критерий Манна-Уитни."
   ]
  },
  {
   "cell_type": "code",
   "execution_count": 6,
   "id": "a0e19142",
   "metadata": {},
   "outputs": [
    {
     "data": {
      "text/plain": [
       "Ttest_indResult(statistic=0.1580478383755105, pvalue=0.8747496684193465)"
      ]
     },
     "execution_count": 6,
     "metadata": {},
     "output_type": "execute_result"
    }
   ],
   "source": [
    "st.ttest_ind(df2[df2.exp_group==1].bucket_ctr,\n",
    "               df2[df2.exp_group==2].bucket_ctr, equal_var=False)"
   ]
  },
  {
   "cell_type": "code",
   "execution_count": 25,
   "id": "d5573faa",
   "metadata": {},
   "outputs": [
    {
     "data": {
      "text/plain": [
       "MannwhitneyuResult(statistic=1248.0, pvalue=0.9917494383745994)"
      ]
     },
     "execution_count": 25,
     "metadata": {},
     "output_type": "execute_result"
    }
   ],
   "source": [
    "st.mannwhitneyu(df2[df2.exp_group==1].bucket_ctr,\n",
    "               df2[df2.exp_group==2].bucket_ctr,\n",
    "               alternative='two-sided')"
   ]
  },
  {
   "cell_type": "markdown",
   "id": "f60f6564",
   "metadata": {},
   "source": [
    "Оба теста говорят о невозможности отклонить нулевую гипотезу."
   ]
  },
  {
   "cell_type": "markdown",
   "id": "d4def612",
   "metadata": {},
   "source": [
    "### Вывод"
   ]
  },
  {
   "cell_type": "markdown",
   "id": "d724dc64",
   "metadata": {},
   "source": [
    "В результате анализа A/B-теста можно сказать, что никаких значимых отличий между группами не обнаружено. Это может означать, что новый алгоритм рекомендации постов не оказал влияния на поведение пользователей (в рамках метрики CTR). Однако это также может свидетельствовать о том, что мощности нашего теста не хватило для фиксирования изменения поведения пользователей. Возможно не хватило чуствительности выбранной метрики или был недостаточный объем выборки. Эксперимент будем считать неудачным, и в  продакшн такой алгоритм запускать нельзя."
   ]
  }
 ],
 "metadata": {
  "kernelspec": {
   "display_name": "Python 3",
   "language": "python",
   "name": "python3"
  },
  "language_info": {
   "codemirror_mode": {
    "name": "ipython",
    "version": 3
   },
   "file_extension": ".py",
   "mimetype": "text/x-python",
   "name": "python",
   "nbconvert_exporter": "python",
   "pygments_lexer": "ipython3",
   "version": "3.8.8"
  }
 },
 "nbformat": 4,
 "nbformat_minor": 5
}
